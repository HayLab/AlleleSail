{
  "cells": [
    {
      "cell_type": "markdown",
      "metadata": {
        "colab_type": "text",
        "id": "view-in-github"
      },
      "source": [
        "<a href=\"https://colab.research.google.com/github/HayLab/AlleleSail/blob/main/AlleleSail_demo.ipynb\" target=\"_parent\"><img src=\"https://colab.research.google.com/assets/colab-badge.svg\" alt=\"Open In Colab\"/></a>"
      ]
    },
    {
      "cell_type": "markdown",
      "metadata": {
        "id": "fW5lkFSxxKOr"
      },
      "source": [
        "#Modeling Allele Sail: A tutorial!\n",
        "--------------------------------------\n",
        "This is a python-based tool with a command-line interface, so using a terminal is a pre-requisite! Also, I'm a Windows user, so I don't know how much of this is translatable to Mac. With any questions, please don't hesistate to reach out to mljohnso@caltech.edu (or haybruce@caltech.edu, if my contact info ends up changing and I forget to update it here).\n",
        "\n",
        "Starting from how to get the simulation onto your computer: We'll clone the project and move into the directory. This simulation writes data to files, so we'll also create a folder to store the data files in"
      ]
    },
    {
      "cell_type": "code",
      "execution_count": null,
      "metadata": {
        "colab": {
          "base_uri": "https://localhost:8080/"
        },
        "id": "1MUyPU3jwhoM",
        "outputId": "7b60d6bf-e73b-45cb-ddc8-52040e769df1"
      },
      "outputs": [
        {
          "name": "stdout",
          "output_type": "stream",
          "text": [
            "Cloning into 'AlleleSail'...\n",
            "remote: Enumerating objects: 23, done.\u001b[K\n",
            "remote: Counting objects: 100% (23/23), done.\u001b[K\n",
            "remote: Compressing objects: 100% (15/15), done.\u001b[K\n",
            "remote: Total 23 (delta 6), reused 21 (delta 4), pack-reused 0\u001b[K\n",
            "Receiving objects: 100% (23/23), 29.95 KiB | 3.74 MiB/s, done.\n",
            "Resolving deltas: 100% (6/6), done.\n",
            "/content/AlleleSail\n"
          ]
        }
      ],
      "source": [
        "!git clone https://github.com/HayLab/AlleleSail\n",
        "%cd AlleleSail\n",
        "!mkdir demo_data"
      ]
    },
    {
      "cell_type": "markdown",
      "metadata": {
        "id": "UPtq13u7xhEL"
      },
      "source": [
        "If we were running this on a local machine, here we would want to create a virtual environment to install the required packages, but colab takes care of this for us. To learn how to create a venv and install packages, you can find more information on this process [here.](https://packaging.python.org/en/latest/guides/installing-using-pip-and-virtual-environments/) We'll move onto using the simulation, assuming that all required packages are installed.\n",
        "\n",
        "The simulation uses a command-line interface to take in inputs. Let's see what inputs are possible."
      ]
    },
    {
      "cell_type": "code",
      "execution_count": 6,
      "metadata": {
        "colab": {
          "base_uri": "https://localhost:8080/"
        },
        "id": "lBdX5MMdf5nP",
        "outputId": "25095fec-9dab-4879-ab3e-bfab2637b051"
      },
      "outputs": [
        {
          "name": "stdout",
          "output_type": "stream",
          "text": [
            "usage: alleleSail_sim.py [-h] [-a ALLELES [ALLELES ...]] [-m MODS] [--somatic]\n",
            "                         [-sex SEX_DETERMINATION] [--MC] [-n NUM_GENS] [-i INTRO] [-e EFFICIENCY]\n",
            "                         [-rd RECOMB_DIST [RECOMB_DIST ...]] [-fc FITNESS_COST [FITNESS_COST ...]]\n",
            "                         [--dominant_FC] [-sc STERILITY_COST [STERILITY_COST ...]]\n",
            "                         [-ai ADDITIONAL_INTROS [ADDITIONAL_INTROS ...]]\n",
            "                         [-l RUN_LABEL_TYPE [RUN_LABEL_TYPE ...]] [-k K] [-no NUM_OFFSPRING]\n",
            "                         [-gf GROWTH_FACTOR] [-r NUM_RUNS] [-fn FILE_NAME]\n",
            "\n",
            "run a stochastic simulation of allele sail behavior\n",
            "\n",
            "options:\n",
            "  -h, --help            show this help message and exit\n",
            "  -a ALLELES [ALLELES ...], --alleles ALLELES [ALLELES ...]\n",
            "                        alleles being used for simulation\n",
            "  -m MODS, --mods MODS  modifications being used. Honestly? Never touch this\n",
            "  --somatic             sail cleavage occurs somaticly, as opposed to in the germline\n",
            "  -sex SEX_DETERMINATION, --sex_determination SEX_DETERMINATION\n",
            "                        which sex determination system to use, for suppression only. Options\n",
            "                        include XY, XYsterile, ZW, ZWsterile, ZW_viable, and ZW_Z_Wind\n",
            "  --MC                  also have maternal carryover, where our sail (S) cuts aromatase\n",
            "  -n NUM_GENS, --num_gens NUM_GENS\n",
            "                        number of generations to run simulation for. Default is 100\n",
            "  -i INTRO, --intro INTRO\n",
            "                        introduction frequency of males homozygous\n",
            "  -e EFFICIENCY, --efficiency EFFICIENCY\n",
            "                        float cleavage efficiency of our sail, in males and females. Default is\n",
            "                        100% (1.0) cleavage in males and females. Takes the format -e female -e\n",
            "                        male\n",
            "  -rd RECOMB_DIST [RECOMB_DIST ...], --recomb_dist RECOMB_DIST [RECOMB_DIST ...]\n",
            "                        list of recombination distances between loci. Defaule it R_D = [50], for\n",
            "                        maximum recomb. distance between loci 1 and 2. For more loci, must include\n",
            "                        more recomb_distances\n",
            "  -fc FITNESS_COST [FITNESS_COST ...], --fitness_cost FITNESS_COST [FITNESS_COST ...]\n",
            "                        list of fitness costs. structure is sex, alleles that incur the cost, the\n",
            "                        fitness cost itself. ex: -fc 2 EE 0.2 Default is no costs\n",
            "  --dominant_FC         make fitness costs dominant, as opposed to additive\n",
            "  -sc STERILITY_COST [STERILITY_COST ...], --sterility_cost STERILITY_COST [STERILITY_COST ...]\n",
            "                        list of sterility costs. Default is no sc, takes the same format as -fc\n",
            "  -ai ADDITIONAL_INTROS [ADDITIONAL_INTROS ...], --additional_intros ADDITIONAL_INTROS [ADDITIONAL_INTROS ...]\n",
            "                        list of additional releases. Takes the format [[sex, genotype,\n",
            "                        intro_percent, first release, timing between releases, number of total\n",
            "                        additional releases]]\n",
            "  -l RUN_LABEL_TYPE [RUN_LABEL_TYPE ...], --run_label_type RUN_LABEL_TYPE [RUN_LABEL_TYPE ...]\n",
            "                        type of label for the runs, generally a combination of fitness costs and\n",
            "                        intro frequencies, for labeling purposes. Will automatically add\n",
            "                        introduction frequency and fitness cost, for inputs 'intro_frequency' and\n",
            "                        'fitCosts'\n",
            "  -k K                  integer carrying capacity\n",
            "  -no NUM_OFFSPRING, --num_offspring NUM_OFFSPRING\n",
            "                        integer number of offspring, Default 100\n",
            "  -gf GROWTH_FACTOR, --growth_factor GROWTH_FACTOR\n",
            "                        integer growth factor, default is 10\n",
            "  -r NUM_RUNS, --num_runs NUM_RUNS\n",
            "                        integer number of runs, default is 10\n",
            "  -fn FILE_NAME, --file_name FILE_NAME\n",
            "                        file name for data to be appended to\n"
          ]
        }
      ],
      "source": [
        "!python alleleSail_sim.py -h"
      ]
    },
    {
      "cell_type": "markdown",
      "metadata": {
        "id": "V0d97Y8UhlRe"
      },
      "source": [
        "That's a lot of inputs ! To break it down a little more, let's see an example. We'll start by modeling an allele sail for modification.\n",
        "\n",
        "The default configuration uses four alleles - **[['E', 'O'], ['S', 'W']]**. E and O represent locus 1; they are our Edited allele (E) or our Original allele (S). At the other locus, we either have our editor (S) or the wildtype locus (W).\n",
        "\n",
        "Let's use a population of size 1000 (-k 1000), and we'll introduce our sail at a frequency of 5% (-i 0.05). I only want this simulation to run for 50 generations (-n 50) and to run 5 times (-r 5). We'll also add in maternal carryover (--MC) and a fitness cost (by default additive) on the editor (S) that applies to both males and females (-fc 2 E 0.1). *Note: If we wanted this to just apply to females, we'd use -fc 0 E 0.1, and if we just wanted this to apply to males, we'd use -fc 1 E 0.1*"
      ]
    },
    {
      "cell_type": "code",
      "execution_count": 25,
      "metadata": {
        "colab": {
          "base_uri": "https://localhost:8080/"
        },
        "id": "0SaMepg5oqij",
        "outputId": "4f52df50-5710-4f3b-d547-c35f07e00bdb"
      },
      "outputs": [
        {
          "name": "stdout",
          "output_type": "stream",
          "text": [
            "[50]\n",
            "[[2, ['E'], 0.1, ['Q'], 'additive']]\n",
            "[]\n",
            "[]\n",
            "time taken on run 1: 6.156033992767334\n",
            "time taken on run 2: 7.175011157989502\n",
            "time taken on run 3: 5.915485382080078\n",
            "time taken on run 4: 7.29848575592041\n",
            "time taken on run 5: 6.009943246841431\n",
            "time taken on run 6: 7.4186341762542725\n",
            "time taken on run 7: 6.270315885543823\n",
            "time taken on run 8: 6.953797340393066\n",
            "time taken on run 9: 5.821960926055908\n",
            "time taken on run 10: 7.198100805282593\n",
            "intro_0.05_fc_0.1 appended to data/modification_dominant_MC\n",
            "\n"
          ]
        }
      ],
      "source": [
        "!python alleleSail_sim.py -l intro_0.05_fc_0.1 -fn demo_data/modification_dominant_MC \\\n",
        "  -r 5 -n 50 -k 1000 -i 0.05 --MC -fc 2 E 0.1"
      ]
    },
    {
      "cell_type": "markdown",
      "metadata": {
        "id": "AkuT20tnqUZu"
      },
      "source": [
        "Let's check to see if our files are there!"
      ]
    },
    {
      "cell_type": "code",
      "execution_count": 26,
      "metadata": {
        "colab": {
          "base_uri": "https://localhost:8080/"
        },
        "id": "ScB3dL7lqWfB",
        "outputId": "518c291a-376a-4270-bee5-8938b7e23736"
      },
      "outputs": [
        {
          "name": "stdout",
          "output_type": "stream",
          "text": [
            "modification_dominant_MC_allele.csv\tsuppression_XY_noMC_allele.csv\n",
            "modification_dominant_MC_genotype.csv\tsuppression_XY_noMC_genotype.csv\n",
            "modification_dominant_MC_NEWallele.csv\tsuppression_XY_noMC_NEWallele.csv\n",
            "modification_dominant_MC_total.csv\tsuppression_XY_noMC_total.csv\n",
            "modification_dominant_MC_total_pop.csv\tsuppression_XY_noMC_total_pop.csv\n"
          ]
        }
      ],
      "source": [
        "!ls demo_data"
      ]
    },
    {
      "cell_type": "markdown",
      "metadata": {
        "id": "YuMz-4BLrJNO"
      },
      "source": [
        "We now have five files! Each contains different information.\n",
        "**modification_dominant_MC_allele.csv** contains information about the number of allele-carriers in the population, for each allele.\n",
        "**modification_dominant_MC_genotype.csv** contains information on how many individuals of each genotype exist for each generation.\n",
        "**modification_dominant_MC_NEWallele.csv** contains information on how many alleles exist in the population, regardless of individuals.\n",
        "**modification_dominant_MC_total.csv** contains information about the total number of individuals in each generation, including those that are released\n",
        "**modification_dominant_MC_total_pop.csv** contains informations about the total number of individuals that grew up in the \"wild\" - this is the total number of individual NOT including releases.\n",
        "\n",
        "To analyze this data, use the csv analyzer of your choice!"
      ]
    },
    {
      "cell_type": "markdown",
      "metadata": {
        "id": "OiZ7b0Dii56F"
      },
      "source": [
        "Now, let's try modeling one for suppression. Let's model an allele sail in the XY system without maternal carryover, for a population of size 1000. We'll label the run with the introduction frequency and number of repeated releases, and save our data to the file \"suppression_XY_noMC\". We'll also do 10 runs for 50 generations each. Since we want to do releases every generation, as opposed to just at the beginning, lets set the original introduction frequency to 0, and use the 'additional intros' flag to release every generation. Males are denoted by 1, the transgenic genotype we want is genotype 1 (more information on this below), we want to start at generation 0, and we'll go every generation until the simulation ends. I'll store this additional intro info into some variables, to make them easier to re-use. To do so, we'll switch to the shell for this, using the command %%shell"
      ]
    },
    {
      "cell_type": "code",
      "execution_count": null,
      "metadata": {
        "id": "PAN3A2lDlFdP"
      },
      "outputs": [],
      "source": [
        "%%shell\n",
        "males=1\n",
        "genotype=0\n",
        "first_gen=0\n",
        "num_runs=10\n",
        "repeats=51\n",
        "gap=1\n",
        "freq=0.1\n",
        "\n",
        "python alleleSail_sim.py -l intro_${freq}_repeats_50 -fn demo_data/suppression_XY_noMC \\\n",
        "  -sex XY -r $num_runs -n 50 -k 1000  \\\n",
        "  -i 0 -ai $males $genotype $freq $first_gen $gap $repeats"
      ]
    },
    {
      "cell_type": "markdown",
      "metadata": {
        "id": "vf2wm3U2oRIF"
      },
      "source": [
        "Let's check to see if our files ran"
      ]
    },
    {
      "cell_type": "code",
      "execution_count": 24,
      "metadata": {
        "colab": {
          "base_uri": "https://localhost:8080/"
        },
        "id": "kdz_QG7hoVUu",
        "outputId": "efacb5f0-2008-44e1-f93e-0aa19d588425"
      },
      "outputs": [
        {
          "name": "stdout",
          "output_type": "stream",
          "text": [
            "suppression_XY_noMC_allele.csv\t   suppression_XY_noMC_total.csv\n",
            "suppression_XY_noMC_genotype.csv   suppression_XY_noMC_total_pop.csv\n",
            "suppression_XY_noMC_NEWallele.csv\n"
          ]
        }
      ],
      "source": [
        "!ls demo_data/"
      ]
    },
    {
      "cell_type": "markdown",
      "metadata": {
        "id": "v9pVzPLoobGY"
      },
      "source": [
        "We now have information on allele carriers, individuals of different genotypes, allele frequencies, the total number of individuals (including those released), and the total number of individuals not including those released.\n",
        "A note on runtimes: the above simulations, with 1000 individuals, run at about 7 seconds per run on my machine. For the paper, we used simulations with carrying capacity of 10000 individuals, and saw run-times of closer to 70 seconds per simulation.\n",
        "This demo will hopefully be updated in the future, with more info about how to play around with the code and analyze files, but for any questions please feel free to reach out to mljohnso@caltech.edu"
      ]
    }
  ],
  "metadata": {
    "colab": {
      "authorship_tag": "ABX9TyMyPwS8w383JgJyC2+RTpj9",
      "include_colab_link": true,
      "provenance": []
    },
    "kernelspec": {
      "display_name": "Python 3",
      "name": "python3"
    },
    "language_info": {
      "name": "python"
    }
  },
  "nbformat": 4,
  "nbformat_minor": 0
}
